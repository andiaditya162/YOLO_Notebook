{
 "cells": [
  {
   "cell_type": "code",
   "execution_count": null,
   "metadata": {
    "id": "qjO_RoFSOYKw"
   },
   "outputs": [],
   "source": [
    "!nvidia-smi"
   ]
  },
  {
   "cell_type": "code",
   "execution_count": null,
   "metadata": {
    "id": "rowKDIT-jJ9k"
   },
   "outputs": [],
   "source": [
    "import os\n",
    "HOME = os.getcwd()\n",
    "print(HOME)"
   ]
  },
  {
   "cell_type": "code",
   "execution_count": null,
   "metadata": {
    "id": "pixgo4qnjdoU"
   },
   "outputs": [],
   "source": [
    "!git clone https://github.com/SkalskiP/yolov9.git\n",
    "%cd yolov9\n",
    "!pip install -r requirements.txt -q"
   ]
  },
  {
   "cell_type": "code",
   "execution_count": null,
   "metadata": {
    "id": "TPGqlohQqgAO"
   },
   "outputs": [],
   "source": [
    "!pip install -q roboflow"
   ]
  },
  {
   "cell_type": "code",
   "execution_count": null,
   "metadata": {
    "id": "h7j3aUE7l1Je"
   },
   "outputs": [],
   "source": [
    "!wget -P {HOME}/weights -q https://github.com/WongKinYiu/yolov9/releases/download/v0.1/yolov9-c.pt\n",
    "!wget -P {HOME}/weights -q https://github.com/WongKinYiu/yolov9/releases/download/v0.1/yolov9-e.pt"
   ]
  },
  {
   "cell_type": "code",
   "execution_count": null,
   "metadata": {
    "id": "Au6np1JS8eRB"
   },
   "outputs": [],
   "source": [
    "!ls -la {HOME}/weights"
   ]
  },
  {
   "cell_type": "code",
   "execution_count": null,
   "metadata": {
    "id": "MyLpftfU2Q1U"
   },
   "outputs": [],
   "source": [
    "%cd {HOME}/yolov9"
   ]
  },
  {
   "cell_type": "code",
   "execution_count": null,
   "metadata": {
    "id": "TugvRDUUj9b-"
   },
   "outputs": [],
   "source": [
    "!pip install roboflow\n",
    "\n",
    "from roboflow import Roboflow\n",
    "rf = Roboflow(api_key=\"\")\n",
    "project = rf.workspace(\"\").project(\"\")\n",
    "version = project.version()\n",
    "dataset = version.download(\"\")"
   ]
  },
  {
   "cell_type": "code",
   "execution_count": null,
   "metadata": {
    "id": "K6VjsdWfyiLQ"
   },
   "outputs": [],
   "source": [
    "# !pip install Pillow==9.5.0"
   ]
  },
  {
   "cell_type": "code",
   "execution_count": null,
   "metadata": {
    "id": "IieP73DfLvR5"
   },
   "outputs": [],
   "source": [
    "# test: /content/yolov9/your_project_folder/test/images\n",
    "# train: /content/yolov9/your_project_folder/train/images\n",
    "# val: /content/yolov9/your_project_folder/valid/images"
   ]
  },
  {
   "cell_type": "code",
   "execution_count": null,
   "metadata": {
    "id": "N68Bdf4FsMYW"
   },
   "outputs": [],
   "source": [
    "%cd {HOME}/yolov9\n",
    "\n",
    "!python train_dual.py \\\n",
    "--batch 4 --epochs 50 --img 640 --device 0 \\\n",
    "--data /content/yolov9/your_project_folder/data.yaml \\\n",
    "--weights /content/weights/yolov9-e.pt \\\n",
    "--cfg /content/yolov9/models/detect/yolov9-e.yaml \\\n",
    "--hyp /content/yolov9/data/hyps/hyp.scratch-high.yaml"
   ]
  },
  {
   "cell_type": "code",
   "execution_count": null,
   "metadata": {
    "id": "WslwgMAW2Euc"
   },
   "outputs": [],
   "source": [
    "!ls {HOME}/yolov9/runs/train/exp/"
   ]
  },
  {
   "cell_type": "code",
   "execution_count": null,
   "metadata": {
    "id": "grirpuCstpZE"
   },
   "outputs": [],
   "source": [
    "from IPython.display import Image\n",
    "\n",
    "Image(filename=f\"{HOME}/yolov9/runs/train/exp/results.png\", width=600)"
   ]
  },
  {
   "cell_type": "code",
   "execution_count": null,
   "metadata": {
    "id": "qggEg7Hv1zJ6"
   },
   "outputs": [],
   "source": [
    "from IPython.display import Image\n",
    "\n",
    "Image(filename=f\"{HOME}/yolov9/runs/train/exp/confusion_matrix.png\", width=600)"
   ]
  },
  {
   "cell_type": "code",
   "execution_count": null,
   "metadata": {
    "colab": {
     "base_uri": "https://localhost:8080/"
    },
    "executionInfo": {
     "elapsed": 16868,
     "status": "ok",
     "timestamp": 1735289267792,
     "user": {
      "displayName": "TRIDE AGENCY",
      "userId": "18429830646060765892"
     },
     "user_tz": -480
    },
    "id": "0r2ZXKMwKYkw",
    "outputId": "48647e15-8857-42cd-a63b-12be36653cee"
   },
   "outputs": [],
   "source": [
    "%cd {HOME}/yolov9\n",
    "\n",
    "!python val_dual.py \\\n",
    "--img 640 --batch 4 --conf 0.5 --iou 0.5 --device 0 \\\n",
    "--data {dataset.location}/data.yaml \\\n",
    "--weights {HOME}/yolov9/runs/train/exp/weights/best.pt"
   ]
  },
  {
   "cell_type": "code",
   "execution_count": null,
   "metadata": {
    "id": "UczOYSjK5ewu"
   },
   "outputs": [],
   "source": [
    "!python detect.py \\\n",
    "--img 640 --conf 0.5 --device 0 \\\n",
    "--weights {HOME}/yolov9/runs/train/exp/weights/best.pt \\\n",
    "--source {dataset.location}/test/images"
   ]
  },
  {
   "cell_type": "code",
   "execution_count": null,
   "metadata": {
    "id": "mui8FbUE5gZg"
   },
   "outputs": [],
   "source": [
    "import glob\n",
    "\n",
    "from IPython.display import Image, display\n",
    "\n",
    "for image_path in glob.glob(f'{HOME}/yolov9/runs/detect/exp/*.jpg')[:3]:\n",
    "      display(Image(filename=image_path, width=300))\n",
    "      print(\"\\n\")"
   ]
  }
 ],
 "metadata": {
  "accelerator": "GPU",
  "colab": {
   "gpuType": "T4",
   "provenance": [
    {
     "file_id": "https://github.com/roboflow/notebooks/blob/main/notebooks/train-yolov9-object-detection-on-custom-dataset.ipynb",
     "timestamp": 1728438950092
    }
   ]
  },
  "kernelspec": {
   "display_name": "Python 3",
   "name": "python3"
  },
  "language_info": {
   "name": "python"
  }
 },
 "nbformat": 4,
 "nbformat_minor": 0
}
